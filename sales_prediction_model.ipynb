{
 "cells": [
  {
   "cell_type": "code",
   "execution_count": 49,
   "id": "c75110c7",
   "metadata": {},
   "outputs": [],
   "source": [
    "# import libraries\n",
    "import pandas as pd\n",
    "import numpy as np\n",
    "import matplotlib.pyplot as plt\n",
    "import seaborn as sns\n",
    "import statsmodels.api as sm\n",
    "from sklearn.model_selection import train_test_split\n",
    "from statsmodels.stats.outliers_influence import variance_inflation_factor\n",
    "from sklearn.linear_model import LinearRegression\n",
    "from sklearn.preprocessing import MinMaxScaler, StandardScaler\n",
    "from scipy.stats import kurtosis"
   ]
  },
  {
   "cell_type": "code",
   "execution_count": 2,
   "id": "a39f186e",
   "metadata": {},
   "outputs": [],
   "source": [
    "%matplotlib inline\n",
    "import warnings\n",
    "warnings.filterwarnings(\"ignore\")\n",
    "plt.rcParams[\"figure.figsize\"] = (6,4)"
   ]
  },
  {
   "cell_type": "code",
   "execution_count": 38,
   "id": "14ee9811",
   "metadata": {},
   "outputs": [],
   "source": [
    "class Datasets():\n",
    "    \n",
    "    def __init__(self,data, target_column_name):\n",
    "        self.original_data = data\n",
    "        self.X_Train = self.original_data.drop(target_column_name,axis=1)\n",
    "        self.X_Train_Scaled = self.scale_data(self.X_Train, 'MinMax')\n",
    "        self.Y_Train = self.original_data[target_column_name].copy()\n",
    "        \n",
    "    def scale_data(self, X, method='MinMax'):\n",
    "        \"\"\"\n",
    "        This function will scale the data using Minmax function from Sklearn\n",
    "        \"\"\"\n",
    "        if method == 'MinMax':\n",
    "            scaler = MinMaxScaler()\n",
    "        else:\n",
    "            scaler = StandardScaler()\n",
    "        X_t = scaler.fit_transform(X)\n",
    "        X_t=pd.DataFrame(X_t,columns=[X.columns])\n",
    "        return X_t"
   ]
  },
  {
   "cell_type": "code",
   "execution_count": 5,
   "id": "f41c1f15",
   "metadata": {},
   "outputs": [],
   "source": [
    "def run_lr_model(predictors, target):\n",
    "    \"\"\"\n",
    "    Running Linear regression model using Statsmodel API\n",
    "    \"\"\"\n",
    "    pred = sm.add_constant(predictors)\n",
    "    model = sm.OLS(target, pred)\n",
    "    results = model.fit()\n",
    "    return print(results.summary())"
   ]
  },
  {
   "cell_type": "markdown",
   "id": "c0047d2a",
   "metadata": {},
   "source": [
    "### The dataset contains statistics about the sales of a product in 200 different markets, together with advertising budgets in each of these markets for different media channels: TV, radio and newspaper. The sales are in thousands of units and the budget is in thousands of dollars.\n"
   ]
  },
  {
   "cell_type": "markdown",
   "id": "efe82382",
   "metadata": {},
   "source": [
    "<https://www.kaggle.com/ashydv/advertising-dataset>"
   ]
  },
  {
   "cell_type": "code",
   "execution_count": 6,
   "id": "b4d13ba9",
   "metadata": {},
   "outputs": [],
   "source": [
    "data = pd.read_csv('advertising.csv')"
   ]
  },
  {
   "cell_type": "code",
   "execution_count": 7,
   "id": "97f09ae3",
   "metadata": {},
   "outputs": [
    {
     "data": {
      "text/html": [
       "<div>\n",
       "<style scoped>\n",
       "    .dataframe tbody tr th:only-of-type {\n",
       "        vertical-align: middle;\n",
       "    }\n",
       "\n",
       "    .dataframe tbody tr th {\n",
       "        vertical-align: top;\n",
       "    }\n",
       "\n",
       "    .dataframe thead th {\n",
       "        text-align: right;\n",
       "    }\n",
       "</style>\n",
       "<table border=\"1\" class=\"dataframe\">\n",
       "  <thead>\n",
       "    <tr style=\"text-align: right;\">\n",
       "      <th></th>\n",
       "      <th>TV</th>\n",
       "      <th>Radio</th>\n",
       "      <th>Newspaper</th>\n",
       "      <th>Sales</th>\n",
       "    </tr>\n",
       "  </thead>\n",
       "  <tbody>\n",
       "    <tr>\n",
       "      <th>0</th>\n",
       "      <td>230.1</td>\n",
       "      <td>37.8</td>\n",
       "      <td>69.2</td>\n",
       "      <td>22.1</td>\n",
       "    </tr>\n",
       "    <tr>\n",
       "      <th>1</th>\n",
       "      <td>44.5</td>\n",
       "      <td>39.3</td>\n",
       "      <td>45.1</td>\n",
       "      <td>10.4</td>\n",
       "    </tr>\n",
       "    <tr>\n",
       "      <th>2</th>\n",
       "      <td>17.2</td>\n",
       "      <td>45.9</td>\n",
       "      <td>69.3</td>\n",
       "      <td>12.0</td>\n",
       "    </tr>\n",
       "    <tr>\n",
       "      <th>3</th>\n",
       "      <td>151.5</td>\n",
       "      <td>41.3</td>\n",
       "      <td>58.5</td>\n",
       "      <td>16.5</td>\n",
       "    </tr>\n",
       "    <tr>\n",
       "      <th>4</th>\n",
       "      <td>180.8</td>\n",
       "      <td>10.8</td>\n",
       "      <td>58.4</td>\n",
       "      <td>17.9</td>\n",
       "    </tr>\n",
       "  </tbody>\n",
       "</table>\n",
       "</div>"
      ],
      "text/plain": [
       "      TV  Radio  Newspaper  Sales\n",
       "0  230.1   37.8       69.2   22.1\n",
       "1   44.5   39.3       45.1   10.4\n",
       "2   17.2   45.9       69.3   12.0\n",
       "3  151.5   41.3       58.5   16.5\n",
       "4  180.8   10.8       58.4   17.9"
      ]
     },
     "execution_count": 7,
     "metadata": {},
     "output_type": "execute_result"
    }
   ],
   "source": [
    "data.head()"
   ]
  },
  {
   "cell_type": "code",
   "execution_count": 8,
   "id": "f47b0327",
   "metadata": {},
   "outputs": [
    {
     "data": {
      "text/plain": [
       "<AxesSubplot:>"
      ]
     },
     "execution_count": 8,
     "metadata": {},
     "output_type": "execute_result"
    },
    {
     "data": {
      "image/png": "[encoded data removed]",
      "text/plain": [
       "<Figure size 432x288 with 1 Axes>"
      ]
     },
     "metadata": {
      "needs_background": "light"
     },
     "output_type": "display_data"
    }
   ],
   "source": [
    "data.boxplot()"
   ]
  },
  {
   "cell_type": "code",
   "execution_count": 24,
   "id": "fcf1018b",
   "metadata": {},
   "outputs": [
    {
     "data": {
      "image/png": "[encoded data removed]",
      "text/plain": [
       "<Figure size 432x432 with 3 Axes>"
      ]
     },
     "metadata": {
      "needs_background": "light"
     },
     "output_type": "display_data"
    },
    {
     "data": {
      "image/png": "[encoded data removed]",
      "text/plain": [
       "<Figure size 432x432 with 3 Axes>"
      ]
     },
     "metadata": {
      "needs_background": "light"
     },
     "output_type": "display_data"
    },
    {
     "data": {
      "image/png": "[encoded data removed]",
      "text/plain": [
       "<Figure size 432x432 with 3 Axes>"
      ]
     },
     "metadata": {
      "needs_background": "light"
     },
     "output_type": "display_data"
    }
   ],
   "source": [
    "for col in [cols for cols in data.columns if cols != 'Sales']:\n",
    "    sns.jointplot(data[col], data['Sales'], kind='scatter')"
   ]
  },
  {
   "cell_type": "markdown",
   "id": "739af564",
   "metadata": {},
   "source": [
    "Spend in TV advertising is more correlated with Sales compared to other channels"
   ]
  },
  {
   "cell_type": "code",
   "execution_count": 47,
   "id": "90d158bb",
   "metadata": {},
   "outputs": [
    {
     "data": {
      "text/plain": [
       "(200, 4)"
      ]
     },
     "execution_count": 47,
     "metadata": {},
     "output_type": "execute_result"
    }
   ],
   "source": [
    "data.shape"
   ]
  },
  {
   "cell_type": "code",
   "execution_count": 39,
   "id": "68c0a30e",
   "metadata": {},
   "outputs": [],
   "source": [
    "datasets = Datasets(data, 'Sales')"
   ]
  },
  {
   "cell_type": "code",
   "execution_count": 45,
   "id": "6f061998",
   "metadata": {},
   "outputs": [
    {
     "name": "stdout",
     "output_type": "stream",
     "text": [
      "                            OLS Regression Results                            \n",
      "==============================================================================\n",
      "Dep. Variable:                  Sales   R-squared:                       0.812\n",
      "Model:                            OLS   Adj. R-squared:                  0.811\n",
      "Method:                 Least Squares   F-statistic:                     856.2\n",
      "Date:                Mon, 09 Aug 2021   Prob (F-statistic):           7.93e-74\n",
      "Time:                        15:26:18   Log-Likelihood:                -448.99\n",
      "No. Observations:                 200   AIC:                             902.0\n",
      "Df Residuals:                     198   BIC:                             908.6\n",
      "Df Model:                           1                                         \n",
      "Covariance Type:            nonrobust                                         \n",
      "==============================================================================\n",
      "                 coef    std err          t      P>|t|      [0.025      0.975]\n",
      "------------------------------------------------------------------------------\n",
      "const          6.9748      0.323     21.624      0.000       6.339       7.611\n",
      "TV             0.0555      0.002     29.260      0.000       0.052       0.059\n",
      "==============================================================================\n",
      "Omnibus:                        0.013   Durbin-Watson:                   2.029\n",
      "Prob(Omnibus):                  0.993   Jarque-Bera (JB):                0.043\n",
      "Skew:                          -0.018   Prob(JB):                        0.979\n",
      "Kurtosis:                       2.938   Cond. No.                         338.\n",
      "==============================================================================\n",
      "\n",
      "Notes:\n",
      "[1] Standard Errors assume that the covariance matrix of the errors is correctly specified.\n"
     ]
    }
   ],
   "source": [
    "run_lr_model(datasets.X_Train['TV'], datasets.Y_Train)"
   ]
  },
  {
   "cell_type": "code",
   "execution_count": 48,
   "id": "9c8c25e6",
   "metadata": {},
   "outputs": [
    {
     "name": "stdout",
     "output_type": "stream",
     "text": [
      "                            OLS Regression Results                            \n",
      "==============================================================================\n",
      "Dep. Variable:                  Sales   R-squared:                       0.903\n",
      "Model:                            OLS   Adj. R-squared:                  0.902\n",
      "Method:                 Least Squares   F-statistic:                     912.7\n",
      "Date:                Mon, 09 Aug 2021   Prob (F-statistic):          2.39e-100\n",
      "Time:                        15:41:22   Log-Likelihood:                -383.34\n",
      "No. Observations:                 200   AIC:                             772.7\n",
      "Df Residuals:                     197   BIC:                             782.6\n",
      "Df Model:                           2                                         \n",
      "Covariance Type:            nonrobust                                         \n",
      "==============================================================================\n",
      "                 coef    std err          t      P>|t|      [0.025      0.975]\n",
      "------------------------------------------------------------------------------\n",
      "const          4.6309      0.290     15.952      0.000       4.058       5.203\n",
      "TV             0.0544      0.001     39.726      0.000       0.052       0.057\n",
      "Radio          0.1072      0.008     13.522      0.000       0.092       0.123\n",
      "==============================================================================\n",
      "Omnibus:                       16.227   Durbin-Watson:                   2.252\n",
      "Prob(Omnibus):                  0.000   Jarque-Bera (JB):               27.973\n",
      "Skew:                          -0.434   Prob(JB):                     8.43e-07\n",
      "Kurtosis:                       4.613   Cond. No.                         425.\n",
      "==============================================================================\n",
      "\n",
      "Notes:\n",
      "[1] Standard Errors assume that the covariance matrix of the errors is correctly specified.\n"
     ]
    }
   ],
   "source": [
    "run_lr_model(datasets.X_Train[['TV', 'Radio']], datasets.Y_Train)"
   ]
  },
  {
   "cell_type": "code",
   "execution_count": 46,
   "id": "62c7a34b",
   "metadata": {},
   "outputs": [
    {
     "name": "stdout",
     "output_type": "stream",
     "text": [
      "                            OLS Regression Results                            \n",
      "==============================================================================\n",
      "Dep. Variable:                  Sales   R-squared:                       0.903\n",
      "Model:                            OLS   Adj. R-squared:                  0.901\n",
      "Method:                 Least Squares   F-statistic:                     605.4\n",
      "Date:                Mon, 09 Aug 2021   Prob (F-statistic):           8.13e-99\n",
      "Time:                        15:36:36   Log-Likelihood:                -383.34\n",
      "No. Observations:                 200   AIC:                             774.7\n",
      "Df Residuals:                     196   BIC:                             787.9\n",
      "Df Model:                           3                                         \n",
      "Covariance Type:            nonrobust                                         \n",
      "==============================================================================\n",
      "                 coef    std err          t      P>|t|      [0.025      0.975]\n",
      "------------------------------------------------------------------------------\n",
      "const          4.6251      0.308     15.041      0.000       4.019       5.232\n",
      "TV             0.0544      0.001     39.592      0.000       0.052       0.057\n",
      "Radio          0.1070      0.008     12.604      0.000       0.090       0.124\n",
      "Newspaper      0.0003      0.006      0.058      0.954      -0.011       0.012\n",
      "==============================================================================\n",
      "Omnibus:                       16.081   Durbin-Watson:                   2.251\n",
      "Prob(Omnibus):                  0.000   Jarque-Bera (JB):               27.655\n",
      "Skew:                          -0.431   Prob(JB):                     9.88e-07\n",
      "Kurtosis:                       4.605   Cond. No.                         454.\n",
      "==============================================================================\n",
      "\n",
      "Notes:\n",
      "[1] Standard Errors assume that the covariance matrix of the errors is correctly specified.\n"
     ]
    }
   ],
   "source": [
    "run_lr_model(datasets.X_Train[['TV', 'Radio', 'Newspaper']], datasets.Y_Train)"
   ]
  },
  {
   "cell_type": "code",
   "execution_count": 52,
   "id": "216ce515",
   "metadata": {},
   "outputs": [
    {
     "data": {
      "text/plain": [
       "array([-1.22589708, -1.2589619 ,  0.60352687, -0.65403539])"
      ]
     },
     "execution_count": 52,
     "metadata": {},
     "output_type": "execute_result"
    }
   ],
   "source": [
    "kurtosis(data)"
   ]
  },
  {
   "cell_type": "code",
   "execution_count": null,
   "id": "2f7930f0",
   "metadata": {},
   "outputs": [],
   "source": []
  }
 ],
 "metadata": {
  "kernelspec": {
   "display_name": "Python 3",
   "language": "python",
   "name": "python3"
  },
  "language_info": {
   "codemirror_mode": {
    "name": "ipython",
    "version": 3
   },
   "file_extension": ".py",
   "mimetype": "text/x-python",
   "name": "python",
   "nbconvert_exporter": "python",
   "pygments_lexer": "ipython3",
   "version": "3.6.5"
  }
 },
 "nbformat": 4,
 "nbformat_minor": 5
}
